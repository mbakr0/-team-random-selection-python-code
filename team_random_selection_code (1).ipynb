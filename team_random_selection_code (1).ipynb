{
  "cells": [
    {
      "cell_type": "markdown",
      "metadata": {
        "id": "7bN-0rS6meh9"
      },
      "source": [
        "# Team Random Selection Code :)\n"
      ]
    },
    {
      "cell_type": "code",
      "execution_count": 17,
      "metadata": {
        "id": "BnYZoiWpmeiC"
      },
      "outputs": [],
      "source": [
        "import random\n",
        "\n",
        "# Define the four test lists\n",
        "level1_list = [1, 2, 3, 4]\n",
        "level2_list = ['a', 'b', 'c','d']\n",
        "level3_list = [99, 88, 77,66]\n",
        "level4_list = [\"1$\",\"2&\",\"3%\",\"4©\"]"
      ]
    },
    {
      "cell_type": "markdown",
      "metadata": {
        "id": "YU8nLYPameiF"
      },
      "source": [
        "Think about a code that help us to have random new mixed lists, each list should have one element from each level lists.\n",
        "\n",
        "Output may be like that following:\n",
        "```python\n",
        "team1 = [1, 'c', 88, '2&']\n",
        "team2 = [4, 'a', 99, '3%']\n",
        "team3 = [2, 'b', 77, '4©']\n",
        "team4 = [3, 'd', 66, '1$']\n",
        "```\n",
        "\n"
      ]
    },
    {
      "cell_type": "code",
      "execution_count": 18,
      "metadata": {
        "colab": {
          "base_uri": "https://localhost:8080/"
        },
        "id": "4y4OtmxZmeiF",
        "outputId": "a266958e-7af5-4bdf-a2e0-5cd94f4f42b1"
      },
      "outputs": [
        {
          "output_type": "stream",
          "name": "stdout",
          "text": [
            "[[4, 'b', 77, '3%'], [3, 'd', 99, '2&'], [1, 'a', 88, '4©'], [2, 'c', 66, '1$']]\n"
          ]
        }
      ],
      "source": [
        "levels = [level1_list,level2_list,level3_list,level4_list]# your code here\n",
        "teams = []\n",
        "for i in range(4):\n",
        "  temp_team = []\n",
        "  for j in range(4):\n",
        "    e = random.choice(levels[j])\n",
        "    levels[j].remove(e)\n",
        "    temp_team.append(e)\n",
        "  teams.append(temp_team)\n",
        "print(teams)\n",
        "\n"
      ]
    }
  ],
  "metadata": {
    "kernelspec": {
      "display_name": "pubmed",
      "language": "python",
      "name": "python3"
    },
    "language_info": {
      "name": "python",
      "version": "3.11.9"
    },
    "colab": {
      "provenance": [],
      "toc_visible": true
    }
  },
  "nbformat": 4,
  "nbformat_minor": 0
}
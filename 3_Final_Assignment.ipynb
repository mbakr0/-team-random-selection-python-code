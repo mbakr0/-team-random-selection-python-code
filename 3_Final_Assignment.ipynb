{
  "cells": [
    {
      "cell_type": "markdown",
      "metadata": {
        "id": "view-in-github",
        "colab_type": "text"
      },
      "source": [
        "<a href=\"https://colab.research.google.com/github/mbakr0/team-random-selection-python-code/blob/master/3_Final_Assignment.ipynb\" target=\"_parent\"><img src=\"https://colab.research.google.com/assets/colab-badge.svg\" alt=\"Open In Colab\"/></a>"
      ]
    },
    {
      "cell_type": "markdown",
      "metadata": {
        "id": "ad25be89-1746-4a56-a3d4-ff568e89231c"
      },
      "source": [
        "<h1>Extracting and Visualizing Stock Data</h1>\n",
        "<h2>Description</h2>\n"
      ]
    },
    {
      "cell_type": "markdown",
      "metadata": {
        "id": "fe8c75f5-72d4-4c8a-a5e4-c2a1a473b4d4"
      },
      "source": [
        "Extracting essential data from a dataset and displaying it is a necessary part of data science; therefore individuals can make correct decisions based on the data. In this assignment, you will extract some stock data, you will then display this data in a graph.\n"
      ]
    },
    {
      "cell_type": "markdown",
      "metadata": {
        "id": "94815aea-a6ce-4019-aeae-98b7906eabca"
      },
      "source": [
        "<h2>Table of Contents</h2>\n",
        "<div class=\"alert alert-block alert-info\" style=\"margin-top: 20px\">\n",
        "    <ul>\n",
        "        <li>Define a Function that Makes a Graph</li>\n",
        "        <li>Question 1: Use yfinance to Extract Stock Data</li>\n",
        "        <li>Question 2: Use Webscraping to Extract Tesla Revenue Data</li>\n",
        "        <li>Question 3: Use yfinance to Extract Stock Data</li>\n",
        "        <li>Question 4: Use Webscraping to Extract GME Revenue Data</li>\n",
        "        <li>Question 5: Plot Tesla Stock Graph</li>\n",
        "        <li>Question 6: Plot GameStop Stock Graph</li>\n",
        "    </ul>\n",
        "</div>\n",
        "\n",
        "<hr>\n"
      ]
    },
    {
      "cell_type": "markdown",
      "metadata": {
        "id": "2a46762c-2f7e-4531-a704-14abab979c94"
      },
      "source": [
        "***Note***:- If you are working Locally, please uncomment the following code and execute it.\n"
      ]
    },
    {
      "cell_type": "code",
      "execution_count": 1,
      "metadata": {
        "id": "18ca76df-8fd3-4790-90d9-ccfb19687cee"
      },
      "outputs": [],
      "source": [
        "#!pip install yfinance\n",
        "#!pip install pandas\n",
        "#!pip install nbformat"
      ]
    },
    {
      "cell_type": "code",
      "execution_count": null,
      "metadata": {
        "id": "15d64626-08eb-4b3c-aebd-d362c8f715a4"
      },
      "outputs": [],
      "source": [
        "!pip install yfinance --upgrade --no-cache-dir\n",
        "!pip install bs4\n",
        "!pip install nbformat"
      ]
    },
    {
      "cell_type": "code",
      "execution_count": 3,
      "metadata": {
        "id": "80e0cd33-d990-4fa2-9968-b5e093f81b1c"
      },
      "outputs": [],
      "source": [
        "import yfinance as yf\n",
        "import pandas as pd\n",
        "import requests\n",
        "from bs4 import BeautifulSoup\n",
        "import plotly.graph_objects as go\n",
        "from plotly.subplots import make_subplots"
      ]
    },
    {
      "cell_type": "markdown",
      "metadata": {
        "id": "325ed38d-631a-4ace-8f86-559db26a0a80"
      },
      "source": [
        "In Python, you can ignore warnings using the warnings module. You can use the filterwarnings function to filter or ignore specific warning messages or categories.\n"
      ]
    },
    {
      "cell_type": "code",
      "execution_count": 4,
      "metadata": {
        "id": "4516c5c3-01cc-4da7-a004-913c3368f035"
      },
      "outputs": [],
      "source": [
        "import warnings\n",
        "# Ignore all warnings\n",
        "warnings.filterwarnings(\"ignore\", category=FutureWarning)"
      ]
    },
    {
      "cell_type": "markdown",
      "metadata": {
        "id": "5fc5461e-fd00-49af-b5e5-252a09fb0fb8"
      },
      "source": [
        "## Define Graphing Function\n"
      ]
    },
    {
      "cell_type": "markdown",
      "metadata": {
        "id": "515d6305-020d-41c1-88ea-0af7117e8d06"
      },
      "source": [
        "In this section, we define the function `make_graph`. You don't have to know how the function works, you should only care about the inputs. It takes a dataframe with stock data (dataframe must contain Date and Close columns), a dataframe with revenue data (dataframe must contain Date and Revenue columns), and the name of the stock.\n"
      ]
    },
    {
      "cell_type": "code",
      "execution_count": 5,
      "metadata": {
        "id": "7ab20b6a-6e26-4927-be31-713b2c6172bd"
      },
      "outputs": [],
      "source": [
        "def make_graph(stock_data, revenue_data, stock):\n",
        "    fig = make_subplots(rows=2, cols=1, shared_xaxes=True, subplot_titles=(\"Historical Share Price\", \"Historical Revenue\"), vertical_spacing = .3)\n",
        "    stock_data_specific = stock_data[stock_data.Date <= '2021--06-14']\n",
        "    revenue_data_specific = revenue_data[revenue_data.Date <= '2021-04-30']\n",
        "    fig.add_trace(go.Scatter(x=pd.to_datetime(stock_data_specific.Date, infer_datetime_format=True), y=stock_data_specific.Close.astype(\"float\"), name=\"Share Price\"), row=1, col=1)\n",
        "    fig.add_trace(go.Scatter(x=pd.to_datetime(revenue_data_specific.Date, infer_datetime_format=True), y=revenue_data_specific.Revenue.astype(\"float\"), name=\"Revenue\"), row=2, col=1)\n",
        "    fig.update_xaxes(title_text=\"Date\", row=1, col=1)\n",
        "    fig.update_xaxes(title_text=\"Date\", row=2, col=1)\n",
        "    fig.update_yaxes(title_text=\"Price ($US)\", row=1, col=1)\n",
        "    fig.update_yaxes(title_text=\"Revenue ($US Millions)\", row=2, col=1)\n",
        "    fig.update_layout(showlegend=False,\n",
        "    height=900,\n",
        "    title=stock,\n",
        "    xaxis_rangeslider_visible=True)\n",
        "    fig.show()"
      ]
    },
    {
      "cell_type": "markdown",
      "metadata": {
        "id": "859eac35-6e82-4eb8-8df9-bb1514c8ee90"
      },
      "source": [
        "## Question 1: Use yfinance to Extract Stock Data\n"
      ]
    },
    {
      "cell_type": "markdown",
      "metadata": {
        "id": "e57e3d1e-8c84-4abe-b7d3-6a26e5d33646"
      },
      "source": [
        "Using the `Ticker` function enter the ticker symbol of the stock we want to\n",
        "\n",
        "---\n",
        "\n",
        "extract data on to create a ticker object. The stock is Tesla and its ticker\n",
        "\n",
        "---\n",
        "\n",
        "symbol is `TSLA`.\n"
      ]
    },
    {
      "cell_type": "code",
      "execution_count": 6,
      "metadata": {
        "id": "cc0d4eb0-7fb8-4dc9-9a31-0476ba2a4ebc"
      },
      "outputs": [],
      "source": [
        "tesla = yf.Ticker(\"TSLA\")"
      ]
    },
    {
      "cell_type": "markdown",
      "metadata": {
        "id": "8b0c839e-f5a8-4679-916c-e3f12daf3361"
      },
      "source": [
        "Using the ticker object and the function `history` extract stock information and save it in a dataframe named `tesla_data`. Set the `period` parameter to `max` so we get information for the maximum amount of time.\n"
      ]
    },
    {
      "cell_type": "code",
      "execution_count": 7,
      "metadata": {
        "id": "94ad2a3e-a62e-4c68-bb85-a0b4db2748e4"
      },
      "outputs": [],
      "source": [
        "tesla_data = tesla.history(\"max\")"
      ]
    },
    {
      "cell_type": "markdown",
      "metadata": {
        "id": "e3164f39-415c-4357-884b-aa4444f67daa"
      },
      "source": [
        "**Reset the index** using the `reset_index(inplace=True)` function on the tesla_data DataFrame and display the first five rows of the `tesla_data` dataframe using the `head` function. Take a screenshot of the results and code from the beginning of Question 1 to the results below.\n"
      ]
    },
    {
      "cell_type": "code",
      "execution_count": null,
      "metadata": {
        "id": "d7b8464d-3c62-48b7-9b9a-773d6b4db293"
      },
      "outputs": [],
      "source": [
        "tesla_data.reset_index(inplace=True)\n",
        "tesla_data.head()"
      ]
    },
    {
      "cell_type": "markdown",
      "metadata": {
        "id": "92a29776-f283-41a9-8d84-bb0fd362f145"
      },
      "source": [
        "## Question 2: Use Webscraping to Extract Tesla Revenue Data\n"
      ]
    },
    {
      "cell_type": "markdown",
      "metadata": {
        "id": "7ae215c0-8aa6-46b5-ac50-d9e0c21177fb"
      },
      "source": [
        "Use the `requests` library to download the webpage https://cf-courses-data.s3.us.cloud-object-storage.appdomain.cloud/IBMDeveloperSkillsNetwork-PY0220EN-SkillsNetwork/labs/project/revenue.htm Save the text of the response as a variable named `html_data`.\n"
      ]
    },
    {
      "cell_type": "code",
      "source": [
        "html_data = requests.get(\"https://cf-courses-data.s3.us.cloud-object-storage.appdomain.cloud/IBMDeveloperSkillsNetwork-PY0220EN-SkillsNetwork/labs/project/revenue.htm\").text"
      ],
      "metadata": {
        "id": "Nz1QIhyoQbOg"
      },
      "execution_count": 9,
      "outputs": []
    },
    {
      "cell_type": "markdown",
      "metadata": {
        "id": "ce559301-e93f-4ae7-a949-2ec552e3fa99"
      },
      "source": [
        "Parse the html data using `beautiful_soup`.\n"
      ]
    },
    {
      "cell_type": "code",
      "source": [
        "beautiful_soup = BeautifulSoup(html_data, \"html.parser\")"
      ],
      "metadata": {
        "id": "O7X0JLguQeEm"
      },
      "execution_count": 10,
      "outputs": []
    },
    {
      "cell_type": "markdown",
      "metadata": {
        "id": "def24ba2-8229-4766-b2e9-6c7e8be71235"
      },
      "source": [
        "Using `BeautifulSoup` or the `read_html` function extract the table with `Tesla Revenue` and store it into a dataframe named `tesla_revenue`. The dataframe should have columns `Date` and `Revenue`.\n"
      ]
    },
    {
      "cell_type": "markdown",
      "metadata": {
        "id": "8ce436f5-9dac-48c0-87db-f3504595feb6"
      },
      "source": [
        "<details><summary>Click here if you need help locating the table</summary>\n",
        "\n",
        "```\n",
        "    \n",
        "Below is the code to isolate the table, you will now need to loop through the rows and columns like in the previous lab\n",
        "    \n",
        "soup.find_all(\"tbody\")[1]\n",
        "    \n",
        "If you want to use the read_html function the table is located at index 1\n",
        "\n",
        "We are focusing on quarterly revenue in the lab.\n",
        "```\n",
        "\n",
        "</details>\n"
      ]
    },
    {
      "cell_type": "code",
      "source": [
        "tesla_revenue = pd.DataFrame(columns=[\"Date\", \"Revenue\"])\n",
        "for row in beautiful_soup.find_all(\"tbody\")[1].find_all(\"tr\"):\n",
        "    col = row.find_all(\"td\")\n",
        "    date = col[0].text\n",
        "    revenue = col[1].text.replace(',','').replace('$','')\n",
        "    tesla_revenue = tesla_revenue._append({\"Date\": date, \"Revenue\": revenue},ignore_index=True)"
      ],
      "metadata": {
        "id": "IGpwkIHTQjM2"
      },
      "execution_count": 11,
      "outputs": []
    },
    {
      "cell_type": "markdown",
      "metadata": {
        "id": "82b773c4-6f9b-445b-989e-fc995005370e"
      },
      "source": [
        "Execute the following line to remove the comma and dollar sign from the `Revenue` column.\n"
      ]
    },
    {
      "cell_type": "code",
      "execution_count": 12,
      "metadata": {
        "id": "4e55f071-236f-43da-801f-f94365979172"
      },
      "outputs": [],
      "source": [
        "tesla_revenue[\"Revenue\"] = tesla_revenue['Revenue'].str.replace(',|\\$',\"\")"
      ]
    },
    {
      "cell_type": "markdown",
      "metadata": {
        "id": "eeda5bc2-f36c-4406-ab0a-b9d30207c18e"
      },
      "source": [
        "Execute the following lines to remove an null or empty strings in the Revenue column.\n"
      ]
    },
    {
      "cell_type": "code",
      "execution_count": 13,
      "metadata": {
        "id": "1b7a0a2f-0580-406d-99f4-1b823244cbf8"
      },
      "outputs": [],
      "source": [
        "tesla_revenue.dropna(inplace=True)\n",
        "tesla_revenue = tesla_revenue[tesla_revenue['Revenue'] != \"\"]"
      ]
    },
    {
      "cell_type": "markdown",
      "metadata": {
        "id": "0d7f8826-9d93-409d-825e-c01224a0c9ec"
      },
      "source": [
        "Display the last 5 row of the `tesla_revenue` dataframe using the `tail` function. Take a screenshot of the results.\n"
      ]
    },
    {
      "cell_type": "code",
      "execution_count": null,
      "metadata": {
        "id": "608f4722-ef93-4751-9662-3975a29b409a"
      },
      "outputs": [],
      "source": [
        "tesla_revenue.tail()"
      ]
    },
    {
      "cell_type": "markdown",
      "metadata": {
        "id": "ad532c6e-5d92-4490-8325-85350cb3f818"
      },
      "source": [
        "## Question 3: Use yfinance to Extract Stock Data\n"
      ]
    },
    {
      "cell_type": "markdown",
      "metadata": {
        "id": "f5691591-a523-45e0-8760-a7d670221e3c"
      },
      "source": [
        "Using the `Ticker` function enter the ticker symbol of the stock we want to extract data on to create a ticker object. The stock is GameStop and its ticker symbol is `GME`.\n"
      ]
    },
    {
      "cell_type": "code",
      "execution_count": 15,
      "metadata": {
        "id": "dc75e572-0fcc-4875-800b-bf0d5ba61f4c"
      },
      "outputs": [],
      "source": [
        "gme= yf.Ticker(\"GME\")"
      ]
    },
    {
      "cell_type": "markdown",
      "metadata": {
        "id": "d2b05f00-79fd-4c5b-b463-aefbd9d70559"
      },
      "source": [
        "Using the ticker object and the function `history` extract stock information and save it in a dataframe named `gme_data`. Set the `period` parameter to `max` so we get information for the maximum amount of time.\n"
      ]
    },
    {
      "cell_type": "code",
      "execution_count": 16,
      "metadata": {
        "id": "a4228c73-29f2-4f34-80fa-b52c3ef57500"
      },
      "outputs": [],
      "source": [
        "gme_data = gme.history(period = \"max\")"
      ]
    },
    {
      "cell_type": "markdown",
      "metadata": {
        "id": "7990bd53-cb5c-4a59-9199-118b2d065722"
      },
      "source": [
        "**Reset the index** using the `reset_index(inplace=True)` function on the gme_data DataFrame and display the first five rows of the `gme_data` dataframe using the `head` function. Take a screenshot of the results and code from the beginning of Question 3 to the results below.\n"
      ]
    },
    {
      "cell_type": "code",
      "execution_count": 17,
      "metadata": {
        "id": "f1631793-2920-4858-9d79-637b4ef956ff",
        "colab": {
          "base_uri": "https://localhost:8080/",
          "height": 206
        },
        "outputId": "15ec5d14-5cc3-4b09-f87c-29b7180cadbd"
      },
      "outputs": [
        {
          "output_type": "execute_result",
          "data": {
            "text/plain": [
              "                       Date      Open      High       Low     Close    Volume  \\\n",
              "0 2002-02-13 00:00:00-05:00  1.620128  1.693350  1.603296  1.691667  76216000   \n",
              "1 2002-02-14 00:00:00-05:00  1.712708  1.716074  1.670626  1.683251  11021600   \n",
              "2 2002-02-15 00:00:00-05:00  1.683250  1.687458  1.658002  1.674834   8389600   \n",
              "3 2002-02-19 00:00:00-05:00  1.666418  1.666418  1.578047  1.607504   7410400   \n",
              "4 2002-02-20 00:00:00-05:00  1.615921  1.662210  1.603296  1.662210   6892800   \n",
              "\n",
              "   Dividends  Stock Splits  \n",
              "0        0.0           0.0  \n",
              "1        0.0           0.0  \n",
              "2        0.0           0.0  \n",
              "3        0.0           0.0  \n",
              "4        0.0           0.0  "
            ],
            "text/html": [
              "\n",
              "  <div id=\"df-a485e664-5e9d-40e4-8733-9154e5e79159\" class=\"colab-df-container\">\n",
              "    <div>\n",
              "<style scoped>\n",
              "    .dataframe tbody tr th:only-of-type {\n",
              "        vertical-align: middle;\n",
              "    }\n",
              "\n",
              "    .dataframe tbody tr th {\n",
              "        vertical-align: top;\n",
              "    }\n",
              "\n",
              "    .dataframe thead th {\n",
              "        text-align: right;\n",
              "    }\n",
              "</style>\n",
              "<table border=\"1\" class=\"dataframe\">\n",
              "  <thead>\n",
              "    <tr style=\"text-align: right;\">\n",
              "      <th></th>\n",
              "      <th>Date</th>\n",
              "      <th>Open</th>\n",
              "      <th>High</th>\n",
              "      <th>Low</th>\n",
              "      <th>Close</th>\n",
              "      <th>Volume</th>\n",
              "      <th>Dividends</th>\n",
              "      <th>Stock Splits</th>\n",
              "    </tr>\n",
              "  </thead>\n",
              "  <tbody>\n",
              "    <tr>\n",
              "      <th>0</th>\n",
              "      <td>2002-02-13 00:00:00-05:00</td>\n",
              "      <td>1.620128</td>\n",
              "      <td>1.693350</td>\n",
              "      <td>1.603296</td>\n",
              "      <td>1.691667</td>\n",
              "      <td>76216000</td>\n",
              "      <td>0.0</td>\n",
              "      <td>0.0</td>\n",
              "    </tr>\n",
              "    <tr>\n",
              "      <th>1</th>\n",
              "      <td>2002-02-14 00:00:00-05:00</td>\n",
              "      <td>1.712708</td>\n",
              "      <td>1.716074</td>\n",
              "      <td>1.670626</td>\n",
              "      <td>1.683251</td>\n",
              "      <td>11021600</td>\n",
              "      <td>0.0</td>\n",
              "      <td>0.0</td>\n",
              "    </tr>\n",
              "    <tr>\n",
              "      <th>2</th>\n",
              "      <td>2002-02-15 00:00:00-05:00</td>\n",
              "      <td>1.683250</td>\n",
              "      <td>1.687458</td>\n",
              "      <td>1.658002</td>\n",
              "      <td>1.674834</td>\n",
              "      <td>8389600</td>\n",
              "      <td>0.0</td>\n",
              "      <td>0.0</td>\n",
              "    </tr>\n",
              "    <tr>\n",
              "      <th>3</th>\n",
              "      <td>2002-02-19 00:00:00-05:00</td>\n",
              "      <td>1.666418</td>\n",
              "      <td>1.666418</td>\n",
              "      <td>1.578047</td>\n",
              "      <td>1.607504</td>\n",
              "      <td>7410400</td>\n",
              "      <td>0.0</td>\n",
              "      <td>0.0</td>\n",
              "    </tr>\n",
              "    <tr>\n",
              "      <th>4</th>\n",
              "      <td>2002-02-20 00:00:00-05:00</td>\n",
              "      <td>1.615921</td>\n",
              "      <td>1.662210</td>\n",
              "      <td>1.603296</td>\n",
              "      <td>1.662210</td>\n",
              "      <td>6892800</td>\n",
              "      <td>0.0</td>\n",
              "      <td>0.0</td>\n",
              "    </tr>\n",
              "  </tbody>\n",
              "</table>\n",
              "</div>\n",
              "    <div class=\"colab-df-buttons\">\n",
              "\n",
              "  <div class=\"colab-df-container\">\n",
              "    <button class=\"colab-df-convert\" onclick=\"convertToInteractive('df-a485e664-5e9d-40e4-8733-9154e5e79159')\"\n",
              "            title=\"Convert this dataframe to an interactive table.\"\n",
              "            style=\"display:none;\">\n",
              "\n",
              "  <svg xmlns=\"http://www.w3.org/2000/svg\" height=\"24px\" viewBox=\"0 -960 960 960\">\n",
              "    <path d=\"M120-120v-720h720v720H120Zm60-500h600v-160H180v160Zm220 220h160v-160H400v160Zm0 220h160v-160H400v160ZM180-400h160v-160H180v160Zm440 0h160v-160H620v160ZM180-180h160v-160H180v160Zm440 0h160v-160H620v160Z\"/>\n",
              "  </svg>\n",
              "    </button>\n",
              "\n",
              "  <style>\n",
              "    .colab-df-container {\n",
              "      display:flex;\n",
              "      gap: 12px;\n",
              "    }\n",
              "\n",
              "    .colab-df-convert {\n",
              "      background-color: #E8F0FE;\n",
              "      border: none;\n",
              "      border-radius: 50%;\n",
              "      cursor: pointer;\n",
              "      display: none;\n",
              "      fill: #1967D2;\n",
              "      height: 32px;\n",
              "      padding: 0 0 0 0;\n",
              "      width: 32px;\n",
              "    }\n",
              "\n",
              "    .colab-df-convert:hover {\n",
              "      background-color: #E2EBFA;\n",
              "      box-shadow: 0px 1px 2px rgba(60, 64, 67, 0.3), 0px 1px 3px 1px rgba(60, 64, 67, 0.15);\n",
              "      fill: #174EA6;\n",
              "    }\n",
              "\n",
              "    .colab-df-buttons div {\n",
              "      margin-bottom: 4px;\n",
              "    }\n",
              "\n",
              "    [theme=dark] .colab-df-convert {\n",
              "      background-color: #3B4455;\n",
              "      fill: #D2E3FC;\n",
              "    }\n",
              "\n",
              "    [theme=dark] .colab-df-convert:hover {\n",
              "      background-color: #434B5C;\n",
              "      box-shadow: 0px 1px 3px 1px rgba(0, 0, 0, 0.15);\n",
              "      filter: drop-shadow(0px 1px 2px rgba(0, 0, 0, 0.3));\n",
              "      fill: #FFFFFF;\n",
              "    }\n",
              "  </style>\n",
              "\n",
              "    <script>\n",
              "      const buttonEl =\n",
              "        document.querySelector('#df-a485e664-5e9d-40e4-8733-9154e5e79159 button.colab-df-convert');\n",
              "      buttonEl.style.display =\n",
              "        google.colab.kernel.accessAllowed ? 'block' : 'none';\n",
              "\n",
              "      async function convertToInteractive(key) {\n",
              "        const element = document.querySelector('#df-a485e664-5e9d-40e4-8733-9154e5e79159');\n",
              "        const dataTable =\n",
              "          await google.colab.kernel.invokeFunction('convertToInteractive',\n",
              "                                                    [key], {});\n",
              "        if (!dataTable) return;\n",
              "\n",
              "        const docLinkHtml = 'Like what you see? Visit the ' +\n",
              "          '<a target=\"_blank\" href=https://colab.research.google.com/notebooks/data_table.ipynb>data table notebook</a>'\n",
              "          + ' to learn more about interactive tables.';\n",
              "        element.innerHTML = '';\n",
              "        dataTable['output_type'] = 'display_data';\n",
              "        await google.colab.output.renderOutput(dataTable, element);\n",
              "        const docLink = document.createElement('div');\n",
              "        docLink.innerHTML = docLinkHtml;\n",
              "        element.appendChild(docLink);\n",
              "      }\n",
              "    </script>\n",
              "  </div>\n",
              "\n",
              "\n",
              "<div id=\"df-49d9fb05-e935-4ec3-af63-94917d407cb8\">\n",
              "  <button class=\"colab-df-quickchart\" onclick=\"quickchart('df-49d9fb05-e935-4ec3-af63-94917d407cb8')\"\n",
              "            title=\"Suggest charts\"\n",
              "            style=\"display:none;\">\n",
              "\n",
              "<svg xmlns=\"http://www.w3.org/2000/svg\" height=\"24px\"viewBox=\"0 0 24 24\"\n",
              "     width=\"24px\">\n",
              "    <g>\n",
              "        <path d=\"M19 3H5c-1.1 0-2 .9-2 2v14c0 1.1.9 2 2 2h14c1.1 0 2-.9 2-2V5c0-1.1-.9-2-2-2zM9 17H7v-7h2v7zm4 0h-2V7h2v10zm4 0h-2v-4h2v4z\"/>\n",
              "    </g>\n",
              "</svg>\n",
              "  </button>\n",
              "\n",
              "<style>\n",
              "  .colab-df-quickchart {\n",
              "      --bg-color: #E8F0FE;\n",
              "      --fill-color: #1967D2;\n",
              "      --hover-bg-color: #E2EBFA;\n",
              "      --hover-fill-color: #174EA6;\n",
              "      --disabled-fill-color: #AAA;\n",
              "      --disabled-bg-color: #DDD;\n",
              "  }\n",
              "\n",
              "  [theme=dark] .colab-df-quickchart {\n",
              "      --bg-color: #3B4455;\n",
              "      --fill-color: #D2E3FC;\n",
              "      --hover-bg-color: #434B5C;\n",
              "      --hover-fill-color: #FFFFFF;\n",
              "      --disabled-bg-color: #3B4455;\n",
              "      --disabled-fill-color: #666;\n",
              "  }\n",
              "\n",
              "  .colab-df-quickchart {\n",
              "    background-color: var(--bg-color);\n",
              "    border: none;\n",
              "    border-radius: 50%;\n",
              "    cursor: pointer;\n",
              "    display: none;\n",
              "    fill: var(--fill-color);\n",
              "    height: 32px;\n",
              "    padding: 0;\n",
              "    width: 32px;\n",
              "  }\n",
              "\n",
              "  .colab-df-quickchart:hover {\n",
              "    background-color: var(--hover-bg-color);\n",
              "    box-shadow: 0 1px 2px rgba(60, 64, 67, 0.3), 0 1px 3px 1px rgba(60, 64, 67, 0.15);\n",
              "    fill: var(--button-hover-fill-color);\n",
              "  }\n",
              "\n",
              "  .colab-df-quickchart-complete:disabled,\n",
              "  .colab-df-quickchart-complete:disabled:hover {\n",
              "    background-color: var(--disabled-bg-color);\n",
              "    fill: var(--disabled-fill-color);\n",
              "    box-shadow: none;\n",
              "  }\n",
              "\n",
              "  .colab-df-spinner {\n",
              "    border: 2px solid var(--fill-color);\n",
              "    border-color: transparent;\n",
              "    border-bottom-color: var(--fill-color);\n",
              "    animation:\n",
              "      spin 1s steps(1) infinite;\n",
              "  }\n",
              "\n",
              "  @keyframes spin {\n",
              "    0% {\n",
              "      border-color: transparent;\n",
              "      border-bottom-color: var(--fill-color);\n",
              "      border-left-color: var(--fill-color);\n",
              "    }\n",
              "    20% {\n",
              "      border-color: transparent;\n",
              "      border-left-color: var(--fill-color);\n",
              "      border-top-color: var(--fill-color);\n",
              "    }\n",
              "    30% {\n",
              "      border-color: transparent;\n",
              "      border-left-color: var(--fill-color);\n",
              "      border-top-color: var(--fill-color);\n",
              "      border-right-color: var(--fill-color);\n",
              "    }\n",
              "    40% {\n",
              "      border-color: transparent;\n",
              "      border-right-color: var(--fill-color);\n",
              "      border-top-color: var(--fill-color);\n",
              "    }\n",
              "    60% {\n",
              "      border-color: transparent;\n",
              "      border-right-color: var(--fill-color);\n",
              "    }\n",
              "    80% {\n",
              "      border-color: transparent;\n",
              "      border-right-color: var(--fill-color);\n",
              "      border-bottom-color: var(--fill-color);\n",
              "    }\n",
              "    90% {\n",
              "      border-color: transparent;\n",
              "      border-bottom-color: var(--fill-color);\n",
              "    }\n",
              "  }\n",
              "</style>\n",
              "\n",
              "  <script>\n",
              "    async function quickchart(key) {\n",
              "      const quickchartButtonEl =\n",
              "        document.querySelector('#' + key + ' button');\n",
              "      quickchartButtonEl.disabled = true;  // To prevent multiple clicks.\n",
              "      quickchartButtonEl.classList.add('colab-df-spinner');\n",
              "      try {\n",
              "        const charts = await google.colab.kernel.invokeFunction(\n",
              "            'suggestCharts', [key], {});\n",
              "      } catch (error) {\n",
              "        console.error('Error during call to suggestCharts:', error);\n",
              "      }\n",
              "      quickchartButtonEl.classList.remove('colab-df-spinner');\n",
              "      quickchartButtonEl.classList.add('colab-df-quickchart-complete');\n",
              "    }\n",
              "    (() => {\n",
              "      let quickchartButtonEl =\n",
              "        document.querySelector('#df-49d9fb05-e935-4ec3-af63-94917d407cb8 button');\n",
              "      quickchartButtonEl.style.display =\n",
              "        google.colab.kernel.accessAllowed ? 'block' : 'none';\n",
              "    })();\n",
              "  </script>\n",
              "</div>\n",
              "\n",
              "    </div>\n",
              "  </div>\n"
            ],
            "application/vnd.google.colaboratory.intrinsic+json": {
              "type": "dataframe",
              "variable_name": "gme_data",
              "summary": "{\n  \"name\": \"gme_data\",\n  \"rows\": 5620,\n  \"fields\": [\n    {\n      \"column\": \"Date\",\n      \"properties\": {\n        \"dtype\": \"date\",\n        \"min\": \"2002-02-13 00:00:00-05:00\",\n        \"max\": \"2024-06-11 00:00:00-04:00\",\n        \"num_unique_values\": 5620,\n        \"samples\": [\n          \"2018-06-28 00:00:00-04:00\",\n          \"2014-05-01 00:00:00-04:00\",\n          \"2002-06-10 00:00:00-04:00\"\n        ],\n        \"semantic_type\": \"\",\n        \"description\": \"\"\n      }\n    },\n    {\n      \"column\": \"Open\",\n      \"properties\": {\n        \"dtype\": \"number\",\n        \"std\": 10.59053920672971,\n        \"min\": 0.6438432166522752,\n        \"max\": 94.92749786376953,\n        \"num_unique_values\": 5374,\n        \"samples\": [\n          1.3381837076300842,\n          14.5,\n          5.860340338441943\n        ],\n        \"semantic_type\": \"\",\n        \"description\": \"\"\n      }\n    },\n    {\n      \"column\": \"High\",\n      \"properties\": {\n        \"dtype\": \"number\",\n        \"std\": 11.250310734789156,\n        \"min\": 0.6724586288569183,\n        \"max\": 120.75,\n        \"num_unique_values\": 5396,\n        \"samples\": [\n          4.039800273806593,\n          4.031384366810514,\n          8.005195109277526\n        ],\n        \"semantic_type\": \"\",\n        \"description\": \"\"\n      }\n    },\n    {\n      \"column\": \"Low\",\n      \"properties\": {\n        \"dtype\": \"number\",\n        \"std\": 9.938081351388053,\n        \"min\": 0.6312190063706449,\n        \"max\": 72.87750244140625,\n        \"num_unique_values\": 5390,\n        \"samples\": [\n          6.554466749552451,\n          4.1323803919282875,\n          17.899999618530273\n        ],\n        \"semantic_type\": \"\",\n        \"description\": \"\"\n      }\n    },\n    {\n      \"column\": \"Close\",\n      \"properties\": {\n        \"dtype\": \"number\",\n        \"std\": 10.497363271596189,\n        \"min\": 0.6387936472892761,\n        \"max\": 86.87750244140625,\n        \"num_unique_values\": 4605,\n        \"samples\": [\n          18.149999618530273,\n          0.925787627696991,\n          22.700000762939453\n        ],\n        \"semantic_type\": \"\",\n        \"description\": \"\"\n      }\n    },\n    {\n      \"column\": \"Volume\",\n      \"properties\": {\n        \"dtype\": \"number\",\n        \"std\": 29761669,\n        \"min\": 260000,\n        \"max\": 788631600,\n        \"num_unique_values\": 5333,\n        \"samples\": [\n          4487200,\n          8944800,\n          27137200\n        ],\n        \"semantic_type\": \"\",\n        \"description\": \"\"\n      }\n    },\n    {\n      \"column\": \"Dividends\",\n      \"properties\": {\n        \"dtype\": \"number\",\n        \"std\": 0.006019335607583791,\n        \"min\": 0.0,\n        \"max\": 0.095,\n        \"num_unique_values\": 8,\n        \"samples\": [\n          0.0375,\n          0.09,\n          0.0\n        ],\n        \"semantic_type\": \"\",\n        \"description\": \"\"\n      }\n    },\n    {\n      \"column\": \"Stock Splits\",\n      \"properties\": {\n        \"dtype\": \"number\",\n        \"std\": 0.05965075181301532,\n        \"min\": 0.0,\n        \"max\": 4.0,\n        \"num_unique_values\": 3,\n        \"samples\": [\n          0.0,\n          2.0,\n          4.0\n        ],\n        \"semantic_type\": \"\",\n        \"description\": \"\"\n      }\n    }\n  ]\n}"
            }
          },
          "metadata": {},
          "execution_count": 17
        }
      ],
      "source": [
        "gme_data.reset_index(inplace=True)\n",
        "gme_data.head()"
      ]
    },
    {
      "cell_type": "markdown",
      "metadata": {
        "id": "6f9295a4-1cd2-4f1d-9867-32c3936d5612"
      },
      "source": [
        "## Question 4: Use Webscraping to Extract GME Revenue Data\n"
      ]
    },
    {
      "cell_type": "markdown",
      "metadata": {
        "id": "9a3cfb3a-cf08-486d-910c-3d3dd5ebf4a8"
      },
      "source": [
        "Use the `requests` library to download the webpage https://cf-courses-data.s3.us.cloud-object-storage.appdomain.cloud/IBMDeveloperSkillsNetwork-PY0220EN-SkillsNetwork/labs/project/stock.html. Save the text of the response as a variable named `html_data`.\n"
      ]
    },
    {
      "cell_type": "code",
      "source": [
        "html_data = requests.get(\"https://cf-courses-data.s3.us.cloud-object-storage.appdomain.cloud/IBMDeveloperSkillsNetwork-PY0220EN-SkillsNetwork/labs/project/stock.html\").text"
      ],
      "metadata": {
        "id": "kxqHZSiRThxg"
      },
      "execution_count": 18,
      "outputs": []
    },
    {
      "cell_type": "markdown",
      "metadata": {
        "id": "bdb66ee4-47fa-4dab-841f-db1f6d7dfe86"
      },
      "source": [
        "Parse the html data using `beautiful_soup`.\n"
      ]
    },
    {
      "cell_type": "code",
      "execution_count": 19,
      "metadata": {
        "id": "b253d488-4bd8-4578-b405-549828029f4b"
      },
      "outputs": [],
      "source": [
        "beautiful_soup = BeautifulSoup(html_data,\"html.parser\")"
      ]
    },
    {
      "cell_type": "markdown",
      "metadata": {
        "id": "a2d6b91b-7e31-4eba-bb81-a108197bd7c9"
      },
      "source": [
        "Using `BeautifulSoup` or the `read_html` function extract the table with `GameStop Revenue` and store it into a dataframe named `gme_revenue`. The dataframe should have columns `Date` and `Revenue`. Make sure the comma and dollar sign is removed from the `Revenue` column using a method similar to what you did in Question 2.\n"
      ]
    },
    {
      "cell_type": "markdown",
      "metadata": {
        "id": "4157dc07-e54b-4cf6-97ac-a8703ab61c1d"
      },
      "source": [
        "<details><summary>Click here if you need help locating the table</summary>\n",
        "\n",
        "```\n",
        "    \n",
        "Below is the code to isolate the table, you will now need to loop through the rows and columns like in the previous lab\n",
        "    \n",
        "soup.find_all(\"tbody\")[1]\n",
        "    \n",
        "If you want to use the read_html function the table is located at index 1\n",
        "\n",
        "\n",
        "```\n",
        "\n",
        "</details>\n"
      ]
    },
    {
      "cell_type": "code",
      "source": [
        "gme_revenue = pd.DataFrame(columns=[\"Date\", \"Revenue\"])\n",
        "for row in beautiful_soup.find_all(\"tbody\")[1].find_all(\"tr\"):\n",
        "    col = row.find_all(\"td\")\n",
        "    date = col[0].text\n",
        "    revenue = col[1].text.replace(',','').replace('$','')\n",
        "    gme_revenue = gme_revenue._append({\"Date\":date,\"Revenue\":revenue},ignore_index = True)"
      ],
      "metadata": {
        "id": "seMJP8GlUz86"
      },
      "execution_count": 20,
      "outputs": []
    },
    {
      "cell_type": "markdown",
      "metadata": {
        "id": "24fc21d6-3aab-4b83-98eb-dd8c6a735441"
      },
      "source": [
        "Display the last five rows of the `gme_revenue` dataframe using the `tail` function. Take a screenshot of the results.\n"
      ]
    },
    {
      "cell_type": "code",
      "execution_count": null,
      "metadata": {
        "id": "9636401f-9fb1-4a74-b100-114aa9c086e8"
      },
      "outputs": [],
      "source": [
        "gme_revenue.tail()"
      ]
    },
    {
      "cell_type": "markdown",
      "metadata": {
        "id": "b6b69b37-e361-424b-87c0-9f70a3b59da3"
      },
      "source": [
        "## Question 5: Plot Tesla Stock Graph\n"
      ]
    },
    {
      "cell_type": "markdown",
      "metadata": {
        "id": "b688027b-5d45-44d9-9f47-928ecc4708df"
      },
      "source": [
        "Use the `make_graph` function to graph the Tesla Stock Data, also provide a title for the graph. The structure to call the `make_graph` function is `make_graph(tesla_data, tesla_revenue, 'Tesla')`. Note the graph will only show data upto June 2021.\n"
      ]
    },
    {
      "cell_type": "code",
      "execution_count": null,
      "metadata": {
        "id": "4627a90a-feb8-4776-b356-1addf5149396"
      },
      "outputs": [],
      "source": [
        "make_graph(tesla_data,tesla_revenue,'Tesla')\n"
      ]
    },
    {
      "cell_type": "markdown",
      "metadata": {
        "id": "965f4faa-9ccf-4a6a-a188-cdfb60c05435"
      },
      "source": [
        "## Question 6: Plot GameStop Stock Graph\n"
      ]
    },
    {
      "cell_type": "markdown",
      "metadata": {
        "id": "7b408adf-581f-403e-932f-b2021e13df9a"
      },
      "source": [
        "Use the `make_graph` function to graph the GameStop Stock Data, also provide a title for the graph. The structure to call the `make_graph` function is `make_graph(gme_data, gme_revenue, 'GameStop')`. Note the graph will only show data upto June 2021.\n"
      ]
    },
    {
      "cell_type": "code",
      "execution_count": null,
      "metadata": {
        "id": "b7be78fb-412d-450f-b2d6-7f22d71fd57e"
      },
      "outputs": [],
      "source": [
        "make_graph(gme_data,gme_revenue,'GameStop')"
      ]
    }
  ],
  "metadata": {
    "kernelspec": {
      "display_name": "Python 3",
      "name": "python3"
    },
    "language_info": {
      "name": "python"
    },
    "prev_pub_hash": "d60eaefd251a42ab1a22dc6c749e72b12de1a0381ae08b532fc47118a00a5394",
    "colab": {
      "provenance": [],
      "include_colab_link": true
    }
  },
  "nbformat": 4,
  "nbformat_minor": 0
}